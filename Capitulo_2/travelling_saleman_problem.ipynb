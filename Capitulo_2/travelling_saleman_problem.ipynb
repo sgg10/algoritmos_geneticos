{
 "cells": [
  {
   "cell_type": "code",
   "metadata": {
    "tags": [],
    "cell_id": "137ce03f-0397-4e17-a50f-d3e0cfbab39c",
    "deepnote_to_be_reexecuted": false,
    "source_hash": "93a55f11",
    "execution_start": 1642965196429,
    "execution_millis": 748,
    "deepnote_cell_type": "code"
   },
   "source": "import random\nimport json\nfrom time import time\nimport numpy\nimport pandas as pd\nimport matplotlib.pyplot as plt\nfrom deap import algorithms, base, creator, tools",
   "execution_count": null,
   "outputs": []
  },
  {
   "cell_type": "markdown",
   "source": "# Problema del viajero",
   "metadata": {
    "cell_id": "b2e2c814-d186-477a-a5cd-64035ed2f39e",
    "tags": [],
    "is_collapsed": false,
    "deepnote_cell_type": "text-cell-h1"
   }
  },
  {
   "cell_type": "code",
   "metadata": {
    "cell_id": "41c4fec3-5f83-4d0c-857b-d434e014f7ab",
    "tags": [],
    "deepnote_to_be_reexecuted": false,
    "source_hash": "c0124620",
    "execution_start": 1642965197179,
    "execution_millis": 4,
    "deepnote_cell_type": "code"
   },
   "source": "with open(\"/work/algoritmos_geneticos/Capitulo_2/cities/gr17.json\", \"r\") as f:\n    tsp = json.load(f)\n\n# Matriz de distancia\ndistance_map = tsp[\"DistanceMatrix\"]\nIND_SIZE = tsp[\"TourSize\"]",
   "execution_count": null,
   "outputs": []
  },
  {
   "cell_type": "markdown",
   "source": "## Creación de los objetos para definir el problema y el tipo de individuo",
   "metadata": {
    "cell_id": "0216796a-de05-44d5-8a08-c54f1d09ff16",
    "tags": [],
    "is_collapsed": false,
    "deepnote_cell_type": "text-cell-h2"
   }
  },
  {
   "cell_type": "code",
   "metadata": {
    "cell_id": "3f33359e-57f4-467f-9399-ad72d9ca62f6",
    "tags": [],
    "deepnote_to_be_reexecuted": false,
    "source_hash": "6946f70d",
    "execution_start": 1642965197189,
    "execution_millis": 3,
    "deepnote_cell_type": "code"
   },
   "source": "def register_initial_components(n_population=100):\n    for _class in [\"FitnessMin\", \"Individual\"]:\n        if _class in dir(creator):\n            delattr(creator, _class)\n    \n    creator.create(\"FitnessMin\", base.Fitness, weights=(-1.0,))\n    creator.create(\"Individual\", list, fitness=creator.FitnessMin)\n\n    toolbox = base.Toolbox()\n\n    # Generación del tour aleatorio\n    toolbox.register(\"indices\", random.sample, range(IND_SIZE), IND_SIZE)\n    toolbox.register(\n        \"individual\",\n        tools.initIterate,\n        creator.Individual,\n        toolbox.indices\n    )\n    toolbox.register(\n        \"population\",\n        tools.initRepeat,\n        list,\n        toolbox.individual,\n        n_population\n    )\n    return toolbox",
   "execution_count": null,
   "outputs": []
  },
  {
   "cell_type": "markdown",
   "source": "## Función objetivo y operadores genéticos",
   "metadata": {
    "cell_id": "39895053-dfbc-4f91-b228-15983dccc4dd",
    "tags": [],
    "is_collapsed": false,
    "deepnote_cell_type": "text-cell-h2"
   }
  },
  {
   "cell_type": "code",
   "metadata": {
    "cell_id": "c3fbfc1a-a736-402f-a40a-04b6e6f09313",
    "tags": [],
    "deepnote_to_be_reexecuted": false,
    "source_hash": "43eeec6b",
    "execution_start": 1642965197196,
    "execution_millis": 8,
    "deepnote_output_heights": [
     611
    ],
    "deepnote_cell_type": "code"
   },
   "source": "def eval_tsp(individual):\n    \"\"\"Funcion objetivo, calcula la distancia que recorre el viajero\"\"\"\n    \n    # Distancia entre el último elemento y el primero\n    distance = distance_map[individual[-1]][individual[0]]\n    # Distancia entre el resto de ciudades\n    for gen1, gen2 in zip(individual[:-1], individual[1:]):\n        distance += distance_map[gen1][gen2]\n    return distance,",
   "execution_count": null,
   "outputs": []
  },
  {
   "cell_type": "code",
   "metadata": {
    "cell_id": "4b97239a-ade1-432c-841b-539b01fd67fd",
    "tags": [],
    "deepnote_to_be_reexecuted": false,
    "source_hash": "3b685d7e",
    "execution_start": 1642965197209,
    "execution_millis": 3,
    "deepnote_cell_type": "code"
   },
   "source": "# Registro de operaciones géneticas\ndef register_genetic_operators(toolbox):\n    toolbox.register(\"mate\", tools.cxOrdered)\n    # toolbox.register(\"mate\", tools.cxPartialyMatched)\n    toolbox.register(\"mutate\", tools.mutShuffleIndexes, indpb=0.05)\n    toolbox.register(\"select\", tools.selTournament, tournsize=5)\n    toolbox.register(\"evaluate\", eval_tsp)\n\n    return toolbox",
   "execution_count": null,
   "outputs": []
  },
  {
   "cell_type": "markdown",
   "source": "## Selección del algoritmo genético",
   "metadata": {
    "cell_id": "7e682883-e935-4e95-b144-4358da3facbd",
    "tags": [],
    "is_collapsed": false,
    "deepnote_cell_type": "text-cell-h2"
   }
  },
  {
   "cell_type": "markdown",
   "source": "*EaMuPlusLambda*: Este algoritmo se basa en que cada nueva generación se extrae a partirde la llamadapoblación extendida, que no es más que la combinación de la población actual (de tamaño μ) y la descendencia (de tamaño λ); de ahí que el algoritmo acuñe el nombre μ+λ.",
   "metadata": {
    "cell_id": "e2674adb-bf40-4435-bfc0-2efc2b76393c",
    "tags": [],
    "deepnote_cell_type": "markdown"
   }
  },
  {
   "cell_type": "markdown",
   "source": "![Picture title](../images/image-20220122-224719.png)",
   "metadata": {
    "cell_id": "55c693e9-39a1-48c2-beaf-f7e5d3846b30",
    "tags": [],
    "deepnote_cell_type": "markdown"
   }
  },
  {
   "cell_type": "code",
   "metadata": {
    "cell_id": "0d3546c2-489c-4e3d-92c8-d059b8085d9a",
    "tags": [],
    "deepnote_to_be_reexecuted": false,
    "source_hash": "9a5d9646",
    "execution_start": 1642965197217,
    "execution_millis": 3,
    "deepnote_cell_type": "code"
   },
   "source": "def simulate(toolbox, CXPB=0.7, MUTPB=0.3, NGEN=45, verbose=False, **kwargs):\n    pop = toolbox.population()\n\n    MU, LAMBDA = len(pop), len(pop)\n    hof = tools.HallOfFame(1)\n\n    stats = tools.Statistics(lambda ind: ind.fitness.values)\n    stats.register(\"avg\", numpy.mean)\n    stats.register(\"std\", numpy.std)\n    stats.register(\"min\", numpy.min)\n    stats.register(\"max\", numpy.max)\n\n    pop, logbook = algorithms.eaMuPlusLambda(\n        pop,\n        toolbox,\n        MU,\n        LAMBDA,\n        CXPB,\n        MUTPB,\n        NGEN,\n        stats=stats,\n        halloffame=hof,\n        verbose=verbose\n    )\n    return pop, logbook\n",
   "execution_count": null,
   "outputs": []
  },
  {
   "cell_type": "code",
   "metadata": {
    "cell_id": "63558b11-23ab-412b-af66-1f04850ca729",
    "tags": [],
    "deepnote_to_be_reexecuted": false,
    "source_hash": "c998f296",
    "execution_start": 1642965197224,
    "execution_millis": 4,
    "deepnote_cell_type": "code"
   },
   "source": "def plot_evolution(log):\n    gen = log.select(\"gen\")\n    fit_mins = log.select(\"min\")\n    fit_maxs = log.select(\"max\")\n    fit_avg = log.select(\"avg\")\n\n    fig, ax1 = plt.subplots(figsize=(8,8))\n    ax1.plot(gen, fit_mins, \"b\")\n    ax1.plot(gen, fit_maxs, \"r\")\n    ax1.plot(gen, fit_avg, \"--k\")\n    ax1.fill_between(gen , fit_mins , fit_maxs, facecolor='g', alpha = 0.2)\n    ax1.set_title(\"Minimizar función de Rastrigin mediante algoritmos geneticos\")\n    ax1.set_xlabel(\"Generation\")\n    ax1.set_ylabel(\"Fitness\")\n    # ax1.set_ylim([-1, 240])\n    # ax1.set_xlim([0, 51])\n    ax1.legend ([\"Min\", \"Max\", \"Avg\"], loc=\"upper right\")\n    plt.grid(True)",
   "execution_count": null,
   "outputs": []
  },
  {
   "cell_type": "code",
   "metadata": {
    "cell_id": "15685007-8a97-4fa5-bd4d-bfb11838cbed",
    "tags": [],
    "deepnote_to_be_reexecuted": false,
    "source_hash": "3326751",
    "execution_start": 1642965197233,
    "execution_millis": 42,
    "deepnote_cell_type": "code"
   },
   "source": "def run(cases):\n    random.seed(100)\n    results = []\n    results_logs = {idx+1: [] for idx in range(len(cases))}\n    for idx, case in enumerate(cases):\n        toolbox = register_initial_components(case[\"n_population\"])\n        toolbox = register_genetic_operators(toolbox)\n        for i in range(10):\n            t0 = time()\n            best, log = simulate(toolbox, **case)\n            results.append([idx+1, i, case[\"n_population\"], case[\"CXPB\"],\n                case[\"MUTPB\"], case[\"NGEN\"], best[0].fitness.values[0], best[0], round(time()-t0, 4)]\n            )\n            results_logs[idx+1].append(log)\n\n    return pd.DataFrame(results, columns=[\"Test ID\", \"Try\", \"Population\", \"CXPB\", \"MUTPB\", \"NGEN\", \"Best Fitness\", \"Best\", \"Time\"]), results_logs",
   "execution_count": null,
   "outputs": []
  },
  {
   "cell_type": "code",
   "metadata": {
    "cell_id": "305cd5ec-b83a-4490-9870-57a5a462220e",
    "tags": [],
    "deepnote_to_be_reexecuted": false,
    "source_hash": "10945b5a",
    "execution_start": 1642965290390,
    "execution_millis": 3,
    "deepnote_cell_type": "code"
   },
   "source": "cases = (\n    # {\"n_population\": 100, \"CXPB\": 0.7, \"MUTPB\":0.3, \"NGEN\": 120},\n    {\"n_population\": 100, \"CXPB\": 0.8, \"MUTPB\":0.2, \"NGEN\": 50},\n    # {\"n_population\": 100, \"CXPB\": 0.6, \"MUTPB\":0.4, \"NGEN\": 120},\n)",
   "execution_count": null,
   "outputs": []
  },
  {
   "cell_type": "code",
   "metadata": {
    "cell_id": "f6233e6b-4009-4069-b3b2-397e422a9a72",
    "tags": [],
    "deepnote_to_be_reexecuted": false,
    "source_hash": "ae115ad4",
    "execution_start": 1642965290694,
    "execution_millis": 4596,
    "deepnote_output_heights": [
     null,
     607,
     40
    ],
    "deepnote_cell_type": "code"
   },
   "source": "df, logs = run(cases)",
   "execution_count": null,
   "outputs": []
  },
  {
   "cell_type": "code",
   "metadata": {
    "cell_id": "f75ab836-6f6d-4358-9850-ee0ad3ff759d",
    "tags": [],
    "deepnote_to_be_reexecuted": false,
    "source_hash": "f804c160",
    "execution_start": 1642965295310,
    "execution_millis": 41,
    "deepnote_table_state": {
     "pageSize": 10,
     "pageIndex": 0,
     "filters": [],
     "sortBy": [
      {
       "id": "Best Fitness",
       "type": "asc"
      }
     ]
    },
    "deepnote_table_loading": false,
    "deepnote_output_heights": [
     611
    ],
    "deepnote_cell_type": "code"
   },
   "source": "df",
   "execution_count": null,
   "outputs": [
    {
     "output_type": "execute_result",
     "execution_count": 22,
     "data": {
      "application/vnd.deepnote.dataframe.v3+json": {
       "column_count": 9,
       "row_count": 10,
       "columns": [
        {
         "name": "Test ID",
         "dtype": "int64",
         "stats": {
          "unique_count": 1,
          "nan_count": 0,
          "min": "1",
          "max": "1",
          "histogram": [
           {
            "bin_start": 0.5,
            "bin_end": 0.6,
            "count": 0
           },
           {
            "bin_start": 0.6,
            "bin_end": 0.7,
            "count": 0
           },
           {
            "bin_start": 0.7,
            "bin_end": 0.8,
            "count": 0
           },
           {
            "bin_start": 0.8,
            "bin_end": 0.9,
            "count": 0
           },
           {
            "bin_start": 0.9,
            "bin_end": 1,
            "count": 0
           },
           {
            "bin_start": 1,
            "bin_end": 1.1,
            "count": 10
           },
           {
            "bin_start": 1.1,
            "bin_end": 1.2000000000000002,
            "count": 0
           },
           {
            "bin_start": 1.2000000000000002,
            "bin_end": 1.3,
            "count": 0
           },
           {
            "bin_start": 1.3,
            "bin_end": 1.4,
            "count": 0
           },
           {
            "bin_start": 1.4,
            "bin_end": 1.5,
            "count": 0
           }
          ]
         }
        },
        {
         "name": "Try",
         "dtype": "int64",
         "stats": {
          "unique_count": 10,
          "nan_count": 0,
          "min": "0",
          "max": "9",
          "histogram": [
           {
            "bin_start": 0,
            "bin_end": 0.9,
            "count": 1
           },
           {
            "bin_start": 0.9,
            "bin_end": 1.8,
            "count": 1
           },
           {
            "bin_start": 1.8,
            "bin_end": 2.7,
            "count": 1
           },
           {
            "bin_start": 2.7,
            "bin_end": 3.6,
            "count": 1
           },
           {
            "bin_start": 3.6,
            "bin_end": 4.5,
            "count": 1
           },
           {
            "bin_start": 4.5,
            "bin_end": 5.4,
            "count": 1
           },
           {
            "bin_start": 5.4,
            "bin_end": 6.3,
            "count": 1
           },
           {
            "bin_start": 6.3,
            "bin_end": 7.2,
            "count": 1
           },
           {
            "bin_start": 7.2,
            "bin_end": 8.1,
            "count": 1
           },
           {
            "bin_start": 8.1,
            "bin_end": 9,
            "count": 1
           }
          ]
         }
        },
        {
         "name": "Population",
         "dtype": "int64",
         "stats": {
          "unique_count": 1,
          "nan_count": 0,
          "min": "100",
          "max": "100",
          "histogram": [
           {
            "bin_start": 99.5,
            "bin_end": 99.6,
            "count": 0
           },
           {
            "bin_start": 99.6,
            "bin_end": 99.7,
            "count": 0
           },
           {
            "bin_start": 99.7,
            "bin_end": 99.8,
            "count": 0
           },
           {
            "bin_start": 99.8,
            "bin_end": 99.9,
            "count": 0
           },
           {
            "bin_start": 99.9,
            "bin_end": 100,
            "count": 0
           },
           {
            "bin_start": 100,
            "bin_end": 100.1,
            "count": 10
           },
           {
            "bin_start": 100.1,
            "bin_end": 100.2,
            "count": 0
           },
           {
            "bin_start": 100.2,
            "bin_end": 100.3,
            "count": 0
           },
           {
            "bin_start": 100.3,
            "bin_end": 100.4,
            "count": 0
           },
           {
            "bin_start": 100.4,
            "bin_end": 100.5,
            "count": 0
           }
          ]
         }
        },
        {
         "name": "CXPB",
         "dtype": "float64",
         "stats": {
          "unique_count": 1,
          "nan_count": 0,
          "min": "0.8",
          "max": "0.8",
          "histogram": [
           {
            "bin_start": 0.30000000000000004,
            "bin_end": 0.4,
            "count": 0
           },
           {
            "bin_start": 0.4,
            "bin_end": 0.5,
            "count": 0
           },
           {
            "bin_start": 0.5,
            "bin_end": 0.6000000000000001,
            "count": 0
           },
           {
            "bin_start": 0.6000000000000001,
            "bin_end": 0.7000000000000001,
            "count": 0
           },
           {
            "bin_start": 0.7000000000000001,
            "bin_end": 0.8,
            "count": 0
           },
           {
            "bin_start": 0.8,
            "bin_end": 0.9000000000000001,
            "count": 10
           },
           {
            "bin_start": 0.9000000000000001,
            "bin_end": 1,
            "count": 0
           },
           {
            "bin_start": 1,
            "bin_end": 1.1,
            "count": 0
           },
           {
            "bin_start": 1.1,
            "bin_end": 1.2000000000000002,
            "count": 0
           },
           {
            "bin_start": 1.2000000000000002,
            "bin_end": 1.3,
            "count": 0
           }
          ]
         }
        },
        {
         "name": "MUTPB",
         "dtype": "float64",
         "stats": {
          "unique_count": 1,
          "nan_count": 0,
          "min": "0.2",
          "max": "0.2",
          "histogram": [
           {
            "bin_start": -0.3,
            "bin_end": -0.19999999999999998,
            "count": 0
           },
           {
            "bin_start": -0.19999999999999998,
            "bin_end": -0.09999999999999998,
            "count": 0
           },
           {
            "bin_start": -0.09999999999999998,
            "bin_end": 5.551115123125783e-17,
            "count": 0
           },
           {
            "bin_start": 5.551115123125783e-17,
            "bin_end": 0.10000000000000003,
            "count": 0
           },
           {
            "bin_start": 0.10000000000000003,
            "bin_end": 0.2,
            "count": 0
           },
           {
            "bin_start": 0.2,
            "bin_end": 0.3000000000000001,
            "count": 10
           },
           {
            "bin_start": 0.3000000000000001,
            "bin_end": 0.4000000000000001,
            "count": 0
           },
           {
            "bin_start": 0.4000000000000001,
            "bin_end": 0.5,
            "count": 0
           },
           {
            "bin_start": 0.5,
            "bin_end": 0.6000000000000001,
            "count": 0
           },
           {
            "bin_start": 0.6000000000000001,
            "bin_end": 0.7,
            "count": 0
           }
          ]
         }
        },
        {
         "name": "NGEN",
         "dtype": "int64",
         "stats": {
          "unique_count": 1,
          "nan_count": 0,
          "min": "50",
          "max": "50",
          "histogram": [
           {
            "bin_start": 49.5,
            "bin_end": 49.6,
            "count": 0
           },
           {
            "bin_start": 49.6,
            "bin_end": 49.7,
            "count": 0
           },
           {
            "bin_start": 49.7,
            "bin_end": 49.8,
            "count": 0
           },
           {
            "bin_start": 49.8,
            "bin_end": 49.9,
            "count": 0
           },
           {
            "bin_start": 49.9,
            "bin_end": 50,
            "count": 0
           },
           {
            "bin_start": 50,
            "bin_end": 50.1,
            "count": 10
           },
           {
            "bin_start": 50.1,
            "bin_end": 50.2,
            "count": 0
           },
           {
            "bin_start": 50.2,
            "bin_end": 50.3,
            "count": 0
           },
           {
            "bin_start": 50.3,
            "bin_end": 50.4,
            "count": 0
           },
           {
            "bin_start": 50.4,
            "bin_end": 50.5,
            "count": 0
           }
          ]
         }
        },
        {
         "name": "Best Fitness",
         "dtype": "float64",
         "stats": {
          "unique_count": 9,
          "nan_count": 0,
          "min": "2085.0",
          "max": "2221.0",
          "histogram": [
           {
            "bin_start": 2085,
            "bin_end": 2098.6,
            "count": 2
           },
           {
            "bin_start": 2098.6,
            "bin_end": 2112.2,
            "count": 1
           },
           {
            "bin_start": 2112.2,
            "bin_end": 2125.8,
            "count": 0
           },
           {
            "bin_start": 2125.8,
            "bin_end": 2139.4,
            "count": 0
           },
           {
            "bin_start": 2139.4,
            "bin_end": 2153,
            "count": 1
           },
           {
            "bin_start": 2153,
            "bin_end": 2166.6,
            "count": 2
           },
           {
            "bin_start": 2166.6,
            "bin_end": 2180.2,
            "count": 0
           },
           {
            "bin_start": 2180.2,
            "bin_end": 2193.8,
            "count": 1
           },
           {
            "bin_start": 2193.8,
            "bin_end": 2207.4,
            "count": 1
           },
           {
            "bin_start": 2207.4,
            "bin_end": 2221,
            "count": 2
           }
          ]
         }
        },
        {
         "name": "Best",
         "dtype": "object",
         "stats": {
          "unique_count": 10,
          "nan_count": 0,
          "categories": [
           {
            "name": "[1, 9, 10, 2, 14, 13, 16, 5, 7, 6, 12, 3, 0, 15, 11, 8, 4]",
            "count": 1
           },
           {
            "name": "[8, 4, 1, 9, 10, 2, 14, 13, 5, 7, 16, 6, 12, 3, 0, 15, 11]",
            "count": 1
           },
           {
            "name": "8 others",
            "count": 8
           }
          ]
         }
        },
        {
         "name": "Time",
         "dtype": "float64",
         "stats": {
          "unique_count": 10,
          "nan_count": 0,
          "min": "0.3523",
          "max": "0.6614",
          "histogram": [
           {
            "bin_start": 0.3523,
            "bin_end": 0.38321,
            "count": 5
           },
           {
            "bin_start": 0.38321,
            "bin_end": 0.41412,
            "count": 1
           },
           {
            "bin_start": 0.41412,
            "bin_end": 0.44503000000000004,
            "count": 0
           },
           {
            "bin_start": 0.44503000000000004,
            "bin_end": 0.47594000000000003,
            "count": 0
           },
           {
            "bin_start": 0.47594000000000003,
            "bin_end": 0.50685,
            "count": 1
           },
           {
            "bin_start": 0.50685,
            "bin_end": 0.53776,
            "count": 0
           },
           {
            "bin_start": 0.53776,
            "bin_end": 0.56867,
            "count": 0
           },
           {
            "bin_start": 0.56867,
            "bin_end": 0.59958,
            "count": 0
           },
           {
            "bin_start": 0.59958,
            "bin_end": 0.63049,
            "count": 1
           },
           {
            "bin_start": 0.63049,
            "bin_end": 0.6614,
            "count": 2
           }
          ]
         }
        },
        {
         "name": "_deepnote_index_column",
         "dtype": "int64"
        }
       ],
       "rows": [
        {
         "Test ID": 1,
         "Try": 0,
         "Population": 100,
         "CXPB": 0.8,
         "MUTPB": 0.2,
         "NGEN": 50,
         "Best Fitness": 2085,
         "Best": "[1, 9, 10, 2, 14, 13, 16, 5, 7, 6, 12, 3, 0, 15, 11, 8, 4]",
         "Time": 0.41,
         "_deepnote_index_column": 0
        },
        {
         "Test ID": 1,
         "Try": 3,
         "Population": 100,
         "CXPB": 0.8,
         "MUTPB": 0.2,
         "NGEN": 50,
         "Best Fitness": 2095,
         "Best": "[8, 4, 1, 9, 10, 2, 14, 13, 5, 7, 16, 6, 12, 3, 0, 15, 11]",
         "Time": 0.5003,
         "_deepnote_index_column": 3
        },
        {
         "Test ID": 1,
         "Try": 6,
         "Population": 100,
         "CXPB": 0.8,
         "MUTPB": 0.2,
         "NGEN": 50,
         "Best Fitness": 2103,
         "Best": "[6, 16, 13, 14, 9, 1, 4, 10, 2, 5, 7, 12, 3, 8, 11, 15, 0]",
         "Time": 0.6614,
         "_deepnote_index_column": 6
        },
        {
         "Test ID": 1,
         "Try": 7,
         "Population": 100,
         "CXPB": 0.8,
         "MUTPB": 0.2,
         "NGEN": 50,
         "Best Fitness": 2151,
         "Best": "[10, 9, 1, 4, 2, 14, 13, 16, 12, 3, 8, 11, 15, 0, 6, 7, 5]",
         "Time": 0.3523,
         "_deepnote_index_column": 7
        },
        {
         "Test ID": 1,
         "Try": 5,
         "Population": 100,
         "CXPB": 0.8,
         "MUTPB": 0.2,
         "NGEN": 50,
         "Best Fitness": 2159,
         "Best": "[15, 0, 3, 12, 6, 16, 7, 5, 13, 14, 2, 10, 4, 1, 9, 8, 11]",
         "Time": 0.642,
         "_deepnote_index_column": 5
        },
        {
         "Test ID": 1,
         "Try": 8,
         "Population": 100,
         "CXPB": 0.8,
         "MUTPB": 0.2,
         "NGEN": 50,
         "Best Fitness": 2159,
         "Best": "[10, 4, 1, 9, 14, 2, 13, 16, 6, 0, 15, 11, 8, 3, 12, 7, 5]",
         "Time": 0.3685,
         "_deepnote_index_column": 8
        },
        {
         "Test ID": 1,
         "Try": 2,
         "Population": 100,
         "CXPB": 0.8,
         "MUTPB": 0.2,
         "NGEN": 50,
         "Best Fitness": 2184,
         "Best": "[12, 6, 7, 16, 13, 14, 9, 1, 4, 10, 2, 5, 8, 11, 15, 0, 3]",
         "Time": 0.3719,
         "_deepnote_index_column": 2
        },
        {
         "Test ID": 1,
         "Try": 1,
         "Population": 100,
         "CXPB": 0.8,
         "MUTPB": 0.2,
         "NGEN": 50,
         "Best Fitness": 2206,
         "Best": "[13, 14, 10, 9, 1, 4, 2, 5, 7, 6, 12, 3, 0, 15, 11, 8, 16]",
         "Time": 0.3637,
         "_deepnote_index_column": 1
        },
        {
         "Test ID": 1,
         "Try": 9,
         "Population": 100,
         "CXPB": 0.8,
         "MUTPB": 0.2,
         "NGEN": 50,
         "Best Fitness": 2219,
         "Best": "[13, 7, 6, 16, 12, 3, 8, 11, 15, 0, 5, 2, 9, 1, 4, 10, 14]",
         "Time": 0.3818,
         "_deepnote_index_column": 9
        },
        {
         "Test ID": 1,
         "Try": 4,
         "Population": 100,
         "CXPB": 0.8,
         "MUTPB": 0.2,
         "NGEN": 50,
         "Best Fitness": 2221,
         "Best": "[2, 14, 9, 1, 4, 10, 8, 11, 15, 0, 6, 16, 3, 12, 7, 5, 13]",
         "Time": 0.6066,
         "_deepnote_index_column": 4
        }
       ]
      },
      "text/plain": "   Test ID  Try  Population  CXPB  MUTPB  NGEN  Best Fitness  \\\n0        1    0         100   0.8    0.2    50        2085.0   \n1        1    1         100   0.8    0.2    50        2206.0   \n2        1    2         100   0.8    0.2    50        2184.0   \n3        1    3         100   0.8    0.2    50        2095.0   \n4        1    4         100   0.8    0.2    50        2221.0   \n5        1    5         100   0.8    0.2    50        2159.0   \n6        1    6         100   0.8    0.2    50        2103.0   \n7        1    7         100   0.8    0.2    50        2151.0   \n8        1    8         100   0.8    0.2    50        2159.0   \n9        1    9         100   0.8    0.2    50        2219.0   \n\n                                                Best    Time  \n0  [1, 9, 10, 2, 14, 13, 16, 5, 7, 6, 12, 3, 0, 1...  0.4100  \n1  [13, 14, 10, 9, 1, 4, 2, 5, 7, 6, 12, 3, 0, 15...  0.3637  \n2  [12, 6, 7, 16, 13, 14, 9, 1, 4, 10, 2, 5, 8, 1...  0.3719  \n3  [8, 4, 1, 9, 10, 2, 14, 13, 5, 7, 16, 6, 12, 3...  0.5003  \n4  [2, 14, 9, 1, 4, 10, 8, 11, 15, 0, 6, 16, 3, 1...  0.6066  \n5  [15, 0, 3, 12, 6, 16, 7, 5, 13, 14, 2, 10, 4, ...  0.6420  \n6  [6, 16, 13, 14, 9, 1, 4, 10, 2, 5, 7, 12, 3, 8...  0.6614  \n7  [10, 9, 1, 4, 2, 14, 13, 16, 12, 3, 8, 11, 15,...  0.3523  \n8  [10, 4, 1, 9, 14, 2, 13, 16, 6, 0, 15, 11, 8, ...  0.3685  \n9  [13, 7, 6, 16, 12, 3, 8, 11, 15, 0, 5, 2, 9, 1...  0.3818  ",
      "text/html": "<div>\n<style scoped>\n    .dataframe tbody tr th:only-of-type {\n        vertical-align: middle;\n    }\n\n    .dataframe tbody tr th {\n        vertical-align: top;\n    }\n\n    .dataframe thead th {\n        text-align: right;\n    }\n</style>\n<table border=\"1\" class=\"dataframe\">\n  <thead>\n    <tr style=\"text-align: right;\">\n      <th></th>\n      <th>Test ID</th>\n      <th>Try</th>\n      <th>Population</th>\n      <th>CXPB</th>\n      <th>MUTPB</th>\n      <th>NGEN</th>\n      <th>Best Fitness</th>\n      <th>Best</th>\n      <th>Time</th>\n    </tr>\n  </thead>\n  <tbody>\n    <tr>\n      <th>0</th>\n      <td>1</td>\n      <td>0</td>\n      <td>100</td>\n      <td>0.8</td>\n      <td>0.2</td>\n      <td>50</td>\n      <td>2085.0</td>\n      <td>[1, 9, 10, 2, 14, 13, 16, 5, 7, 6, 12, 3, 0, 1...</td>\n      <td>0.4100</td>\n    </tr>\n    <tr>\n      <th>1</th>\n      <td>1</td>\n      <td>1</td>\n      <td>100</td>\n      <td>0.8</td>\n      <td>0.2</td>\n      <td>50</td>\n      <td>2206.0</td>\n      <td>[13, 14, 10, 9, 1, 4, 2, 5, 7, 6, 12, 3, 0, 15...</td>\n      <td>0.3637</td>\n    </tr>\n    <tr>\n      <th>2</th>\n      <td>1</td>\n      <td>2</td>\n      <td>100</td>\n      <td>0.8</td>\n      <td>0.2</td>\n      <td>50</td>\n      <td>2184.0</td>\n      <td>[12, 6, 7, 16, 13, 14, 9, 1, 4, 10, 2, 5, 8, 1...</td>\n      <td>0.3719</td>\n    </tr>\n    <tr>\n      <th>3</th>\n      <td>1</td>\n      <td>3</td>\n      <td>100</td>\n      <td>0.8</td>\n      <td>0.2</td>\n      <td>50</td>\n      <td>2095.0</td>\n      <td>[8, 4, 1, 9, 10, 2, 14, 13, 5, 7, 16, 6, 12, 3...</td>\n      <td>0.5003</td>\n    </tr>\n    <tr>\n      <th>4</th>\n      <td>1</td>\n      <td>4</td>\n      <td>100</td>\n      <td>0.8</td>\n      <td>0.2</td>\n      <td>50</td>\n      <td>2221.0</td>\n      <td>[2, 14, 9, 1, 4, 10, 8, 11, 15, 0, 6, 16, 3, 1...</td>\n      <td>0.6066</td>\n    </tr>\n    <tr>\n      <th>5</th>\n      <td>1</td>\n      <td>5</td>\n      <td>100</td>\n      <td>0.8</td>\n      <td>0.2</td>\n      <td>50</td>\n      <td>2159.0</td>\n      <td>[15, 0, 3, 12, 6, 16, 7, 5, 13, 14, 2, 10, 4, ...</td>\n      <td>0.6420</td>\n    </tr>\n    <tr>\n      <th>6</th>\n      <td>1</td>\n      <td>6</td>\n      <td>100</td>\n      <td>0.8</td>\n      <td>0.2</td>\n      <td>50</td>\n      <td>2103.0</td>\n      <td>[6, 16, 13, 14, 9, 1, 4, 10, 2, 5, 7, 12, 3, 8...</td>\n      <td>0.6614</td>\n    </tr>\n    <tr>\n      <th>7</th>\n      <td>1</td>\n      <td>7</td>\n      <td>100</td>\n      <td>0.8</td>\n      <td>0.2</td>\n      <td>50</td>\n      <td>2151.0</td>\n      <td>[10, 9, 1, 4, 2, 14, 13, 16, 12, 3, 8, 11, 15,...</td>\n      <td>0.3523</td>\n    </tr>\n    <tr>\n      <th>8</th>\n      <td>1</td>\n      <td>8</td>\n      <td>100</td>\n      <td>0.8</td>\n      <td>0.2</td>\n      <td>50</td>\n      <td>2159.0</td>\n      <td>[10, 4, 1, 9, 14, 2, 13, 16, 6, 0, 15, 11, 8, ...</td>\n      <td>0.3685</td>\n    </tr>\n    <tr>\n      <th>9</th>\n      <td>1</td>\n      <td>9</td>\n      <td>100</td>\n      <td>0.8</td>\n      <td>0.2</td>\n      <td>50</td>\n      <td>2219.0</td>\n      <td>[13, 7, 6, 16, 12, 3, 8, 11, 15, 0, 5, 2, 9, 1...</td>\n      <td>0.3818</td>\n    </tr>\n  </tbody>\n</table>\n</div>"
     },
     "metadata": {}
    }
   ]
  },
  {
   "cell_type": "code",
   "metadata": {
    "cell_id": "9f032598-d75e-41bb-8f01-674a3fdc85bd",
    "tags": [],
    "deepnote_to_be_reexecuted": false,
    "source_hash": "8d2abc51",
    "execution_start": 1642965295395,
    "execution_millis": 5,
    "deepnote_table_state": {
     "pageSize": 10,
     "pageIndex": 0,
     "filters": [],
     "sortBy": [
      {
       "id": "Time",
       "type": "asc"
      }
     ]
    },
    "deepnote_table_loading": false,
    "deepnote_cell_type": "code"
   },
   "source": "df[df[\"Best Fitness\"] == 2085]",
   "execution_count": null,
   "outputs": [
    {
     "output_type": "execute_result",
     "execution_count": 23,
     "data": {
      "application/vnd.deepnote.dataframe.v3+json": {
       "column_count": 9,
       "row_count": 1,
       "columns": [
        {
         "name": "Test ID",
         "dtype": "int64",
         "stats": {
          "unique_count": 1,
          "nan_count": 0,
          "min": "1",
          "max": "1",
          "histogram": [
           {
            "bin_start": 0.5,
            "bin_end": 0.6,
            "count": 0
           },
           {
            "bin_start": 0.6,
            "bin_end": 0.7,
            "count": 0
           },
           {
            "bin_start": 0.7,
            "bin_end": 0.8,
            "count": 0
           },
           {
            "bin_start": 0.8,
            "bin_end": 0.9,
            "count": 0
           },
           {
            "bin_start": 0.9,
            "bin_end": 1,
            "count": 0
           },
           {
            "bin_start": 1,
            "bin_end": 1.1,
            "count": 1
           },
           {
            "bin_start": 1.1,
            "bin_end": 1.2000000000000002,
            "count": 0
           },
           {
            "bin_start": 1.2000000000000002,
            "bin_end": 1.3,
            "count": 0
           },
           {
            "bin_start": 1.3,
            "bin_end": 1.4,
            "count": 0
           },
           {
            "bin_start": 1.4,
            "bin_end": 1.5,
            "count": 0
           }
          ]
         }
        },
        {
         "name": "Try",
         "dtype": "int64",
         "stats": {
          "unique_count": 1,
          "nan_count": 0,
          "min": "0",
          "max": "0",
          "histogram": [
           {
            "bin_start": -0.5,
            "bin_end": -0.4,
            "count": 0
           },
           {
            "bin_start": -0.4,
            "bin_end": -0.3,
            "count": 0
           },
           {
            "bin_start": -0.3,
            "bin_end": -0.19999999999999996,
            "count": 0
           },
           {
            "bin_start": -0.19999999999999996,
            "bin_end": -0.09999999999999998,
            "count": 0
           },
           {
            "bin_start": -0.09999999999999998,
            "bin_end": 0,
            "count": 0
           },
           {
            "bin_start": 0,
            "bin_end": 0.10000000000000009,
            "count": 1
           },
           {
            "bin_start": 0.10000000000000009,
            "bin_end": 0.20000000000000007,
            "count": 0
           },
           {
            "bin_start": 0.20000000000000007,
            "bin_end": 0.30000000000000004,
            "count": 0
           },
           {
            "bin_start": 0.30000000000000004,
            "bin_end": 0.4,
            "count": 0
           },
           {
            "bin_start": 0.4,
            "bin_end": 0.5,
            "count": 0
           }
          ]
         }
        },
        {
         "name": "Population",
         "dtype": "int64",
         "stats": {
          "unique_count": 1,
          "nan_count": 0,
          "min": "100",
          "max": "100",
          "histogram": [
           {
            "bin_start": 99.5,
            "bin_end": 99.6,
            "count": 0
           },
           {
            "bin_start": 99.6,
            "bin_end": 99.7,
            "count": 0
           },
           {
            "bin_start": 99.7,
            "bin_end": 99.8,
            "count": 0
           },
           {
            "bin_start": 99.8,
            "bin_end": 99.9,
            "count": 0
           },
           {
            "bin_start": 99.9,
            "bin_end": 100,
            "count": 0
           },
           {
            "bin_start": 100,
            "bin_end": 100.1,
            "count": 1
           },
           {
            "bin_start": 100.1,
            "bin_end": 100.2,
            "count": 0
           },
           {
            "bin_start": 100.2,
            "bin_end": 100.3,
            "count": 0
           },
           {
            "bin_start": 100.3,
            "bin_end": 100.4,
            "count": 0
           },
           {
            "bin_start": 100.4,
            "bin_end": 100.5,
            "count": 0
           }
          ]
         }
        },
        {
         "name": "CXPB",
         "dtype": "float64",
         "stats": {
          "unique_count": 1,
          "nan_count": 0,
          "min": "0.8",
          "max": "0.8",
          "histogram": [
           {
            "bin_start": 0.30000000000000004,
            "bin_end": 0.4,
            "count": 0
           },
           {
            "bin_start": 0.4,
            "bin_end": 0.5,
            "count": 0
           },
           {
            "bin_start": 0.5,
            "bin_end": 0.6000000000000001,
            "count": 0
           },
           {
            "bin_start": 0.6000000000000001,
            "bin_end": 0.7000000000000001,
            "count": 0
           },
           {
            "bin_start": 0.7000000000000001,
            "bin_end": 0.8,
            "count": 0
           },
           {
            "bin_start": 0.8,
            "bin_end": 0.9000000000000001,
            "count": 1
           },
           {
            "bin_start": 0.9000000000000001,
            "bin_end": 1,
            "count": 0
           },
           {
            "bin_start": 1,
            "bin_end": 1.1,
            "count": 0
           },
           {
            "bin_start": 1.1,
            "bin_end": 1.2000000000000002,
            "count": 0
           },
           {
            "bin_start": 1.2000000000000002,
            "bin_end": 1.3,
            "count": 0
           }
          ]
         }
        },
        {
         "name": "MUTPB",
         "dtype": "float64",
         "stats": {
          "unique_count": 1,
          "nan_count": 0,
          "min": "0.2",
          "max": "0.2",
          "histogram": [
           {
            "bin_start": -0.3,
            "bin_end": -0.19999999999999998,
            "count": 0
           },
           {
            "bin_start": -0.19999999999999998,
            "bin_end": -0.09999999999999998,
            "count": 0
           },
           {
            "bin_start": -0.09999999999999998,
            "bin_end": 5.551115123125783e-17,
            "count": 0
           },
           {
            "bin_start": 5.551115123125783e-17,
            "bin_end": 0.10000000000000003,
            "count": 0
           },
           {
            "bin_start": 0.10000000000000003,
            "bin_end": 0.2,
            "count": 0
           },
           {
            "bin_start": 0.2,
            "bin_end": 0.3000000000000001,
            "count": 1
           },
           {
            "bin_start": 0.3000000000000001,
            "bin_end": 0.4000000000000001,
            "count": 0
           },
           {
            "bin_start": 0.4000000000000001,
            "bin_end": 0.5,
            "count": 0
           },
           {
            "bin_start": 0.5,
            "bin_end": 0.6000000000000001,
            "count": 0
           },
           {
            "bin_start": 0.6000000000000001,
            "bin_end": 0.7,
            "count": 0
           }
          ]
         }
        },
        {
         "name": "NGEN",
         "dtype": "int64",
         "stats": {
          "unique_count": 1,
          "nan_count": 0,
          "min": "50",
          "max": "50",
          "histogram": [
           {
            "bin_start": 49.5,
            "bin_end": 49.6,
            "count": 0
           },
           {
            "bin_start": 49.6,
            "bin_end": 49.7,
            "count": 0
           },
           {
            "bin_start": 49.7,
            "bin_end": 49.8,
            "count": 0
           },
           {
            "bin_start": 49.8,
            "bin_end": 49.9,
            "count": 0
           },
           {
            "bin_start": 49.9,
            "bin_end": 50,
            "count": 0
           },
           {
            "bin_start": 50,
            "bin_end": 50.1,
            "count": 1
           },
           {
            "bin_start": 50.1,
            "bin_end": 50.2,
            "count": 0
           },
           {
            "bin_start": 50.2,
            "bin_end": 50.3,
            "count": 0
           },
           {
            "bin_start": 50.3,
            "bin_end": 50.4,
            "count": 0
           },
           {
            "bin_start": 50.4,
            "bin_end": 50.5,
            "count": 0
           }
          ]
         }
        },
        {
         "name": "Best Fitness",
         "dtype": "float64",
         "stats": {
          "unique_count": 1,
          "nan_count": 0,
          "min": "2085.0",
          "max": "2085.0",
          "histogram": [
           {
            "bin_start": 2084.5,
            "bin_end": 2084.6,
            "count": 0
           },
           {
            "bin_start": 2084.6,
            "bin_end": 2084.7,
            "count": 0
           },
           {
            "bin_start": 2084.7,
            "bin_end": 2084.8,
            "count": 0
           },
           {
            "bin_start": 2084.8,
            "bin_end": 2084.9,
            "count": 0
           },
           {
            "bin_start": 2084.9,
            "bin_end": 2085,
            "count": 0
           },
           {
            "bin_start": 2085,
            "bin_end": 2085.1,
            "count": 1
           },
           {
            "bin_start": 2085.1,
            "bin_end": 2085.2,
            "count": 0
           },
           {
            "bin_start": 2085.2,
            "bin_end": 2085.3,
            "count": 0
           },
           {
            "bin_start": 2085.3,
            "bin_end": 2085.4,
            "count": 0
           },
           {
            "bin_start": 2085.4,
            "bin_end": 2085.5,
            "count": 0
           }
          ]
         }
        },
        {
         "name": "Best",
         "dtype": "object",
         "stats": {
          "unique_count": 1,
          "nan_count": 0,
          "categories": [
           {
            "name": "[1, 9, 10, 2, 14, 13, 16, 5, 7, 6, 12, 3, 0, 15, 11, 8, 4]",
            "count": 1
           }
          ]
         }
        },
        {
         "name": "Time",
         "dtype": "float64",
         "stats": {
          "unique_count": 1,
          "nan_count": 0,
          "min": "0.41",
          "max": "0.41",
          "histogram": [
           {
            "bin_start": -0.09000000000000002,
            "bin_end": 0.009999999999999981,
            "count": 0
           },
           {
            "bin_start": 0.009999999999999981,
            "bin_end": 0.10999999999999999,
            "count": 0
           },
           {
            "bin_start": 0.10999999999999999,
            "bin_end": 0.21000000000000002,
            "count": 0
           },
           {
            "bin_start": 0.21000000000000002,
            "bin_end": 0.31,
            "count": 0
           },
           {
            "bin_start": 0.31,
            "bin_end": 0.41,
            "count": 0
           },
           {
            "bin_start": 0.41,
            "bin_end": 0.51,
            "count": 1
           },
           {
            "bin_start": 0.51,
            "bin_end": 0.6100000000000001,
            "count": 0
           },
           {
            "bin_start": 0.6100000000000001,
            "bin_end": 0.71,
            "count": 0
           },
           {
            "bin_start": 0.71,
            "bin_end": 0.81,
            "count": 0
           },
           {
            "bin_start": 0.81,
            "bin_end": 0.9099999999999999,
            "count": 0
           }
          ]
         }
        },
        {
         "name": "_deepnote_index_column",
         "dtype": "int64"
        }
       ],
       "rows": [
        {
         "Test ID": 1,
         "Try": 0,
         "Population": 100,
         "CXPB": 0.8,
         "MUTPB": 0.2,
         "NGEN": 50,
         "Best Fitness": 2085,
         "Best": "[1, 9, 10, 2, 14, 13, 16, 5, 7, 6, 12, 3, 0, 15, 11, 8, 4]",
         "Time": 0.41,
         "_deepnote_index_column": 0
        }
       ]
      },
      "text/plain": "   Test ID  Try  Population  CXPB  MUTPB  NGEN  Best Fitness  \\\n0        1    0         100   0.8    0.2    50        2085.0   \n\n                                                Best  Time  \n0  [1, 9, 10, 2, 14, 13, 16, 5, 7, 6, 12, 3, 0, 1...  0.41  ",
      "text/html": "<div>\n<style scoped>\n    .dataframe tbody tr th:only-of-type {\n        vertical-align: middle;\n    }\n\n    .dataframe tbody tr th {\n        vertical-align: top;\n    }\n\n    .dataframe thead th {\n        text-align: right;\n    }\n</style>\n<table border=\"1\" class=\"dataframe\">\n  <thead>\n    <tr style=\"text-align: right;\">\n      <th></th>\n      <th>Test ID</th>\n      <th>Try</th>\n      <th>Population</th>\n      <th>CXPB</th>\n      <th>MUTPB</th>\n      <th>NGEN</th>\n      <th>Best Fitness</th>\n      <th>Best</th>\n      <th>Time</th>\n    </tr>\n  </thead>\n  <tbody>\n    <tr>\n      <th>0</th>\n      <td>1</td>\n      <td>0</td>\n      <td>100</td>\n      <td>0.8</td>\n      <td>0.2</td>\n      <td>50</td>\n      <td>2085.0</td>\n      <td>[1, 9, 10, 2, 14, 13, 16, 5, 7, 6, 12, 3, 0, 1...</td>\n      <td>0.41</td>\n    </tr>\n  </tbody>\n</table>\n</div>"
     },
     "metadata": {}
    }
   ]
  },
  {
   "cell_type": "code",
   "metadata": {
    "cell_id": "5e520101-c8f0-4ef8-89ac-20dee182faea",
    "tags": [],
    "deepnote_to_be_reexecuted": false,
    "source_hash": "cb4b9c2c",
    "execution_start": 1642965295403,
    "execution_millis": 242,
    "deepnote_output_heights": [
     498
    ],
    "deepnote_cell_type": "code"
   },
   "source": "plot_evolution(logs[1][0])",
   "execution_count": null,
   "outputs": [
    {
     "data": {
      "text/plain": "<Figure size 576x576 with 1 Axes>",
      "image/png": "[encoded data removed]"
     },
     "metadata": {
      "needs_background": "light",
      "image/png": {
       "width": 507,
       "height": 496
      }
     },
     "output_type": "display_data"
    }
   ]
  },
  {
   "cell_type": "code",
   "metadata": {
    "cell_id": "baeadb99-70ed-4692-8638-c16f87590842",
    "tags": [],
    "deepnote_cell_type": "code"
   },
   "source": "",
   "execution_count": null,
   "outputs": []
  },
  {
   "cell_type": "markdown",
   "source": "<a style='text-decoration:none;line-height:16px;display:flex;color:#5B5B62;padding:10px;justify-content:end;' href='https://deepnote.com?utm_source=created-in-deepnote-cell&projectId=e519ef70-0417-4f93-b18c-a7992756a932' target=\"_blank\">\n<img alt='Created in deepnote.com' style='display:inline;max-height:16px;margin:0px;margin-right:7.5px;' src='data:image/svg+xml;base64,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' > </img>\nCreated in <span style='font-weight:600;margin-left:4px;'>Deepnote</span></a>",
   "metadata": {
    "tags": [],
    "created_in_deepnote_cell": true,
    "deepnote_cell_type": "markdown"
   }
  }
 ],
 "nbformat": 4,
 "nbformat_minor": 2,
 "metadata": {
  "orig_nbformat": 2,
  "deepnote": {
   "is_reactive": false
  },
  "deepnote_notebook_id": "138210f7-7327-4ea5-830d-34b500c1b932",
  "deepnote_execution_queue": []
 }
}