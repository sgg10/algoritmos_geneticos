{
 "cells": [
  {
   "cell_type": "code",
   "metadata": {
    "tags": [],
    "cell_id": "c07c2cfb-368f-4e71-800a-35650b0cb83d",
    "deepnote_to_be_reexecuted": false,
    "source_hash": "30bd201b",
    "execution_start": 1643468305641,
    "execution_millis": 2263,
    "deepnote_cell_type": "code"
   },
   "source": "import random\nimport json\nimport numpy as np\nimport pandas as pd\nfrom time import time\nimport click\nimport multiprocessing as mp\nimport matplotlib.pyplot as plt\nfrom deap import algorithms, base, creator, tools",
   "execution_count": 1,
   "outputs": []
  },
  {
   "cell_type": "markdown",
   "source": "# Problema del viajero (17, 24, 120 ciudades)",
   "metadata": {
    "cell_id": "e9c421a3-8168-49da-9d07-a4e4ba5e2960",
    "tags": [],
    "is_collapsed": false,
    "deepnote_cell_type": "text-cell-h1"
   }
  },
  {
   "cell_type": "code",
   "metadata": {
    "cell_id": "da73d9d7-25c3-46ce-b342-255ed3a78cb7",
    "tags": [],
    "deepnote_to_be_reexecuted": false,
    "source_hash": "d6af375e",
    "execution_start": 1643468307914,
    "execution_millis": 16,
    "deepnote_cell_type": "code"
   },
   "source": "def load_cities(n):\n    if n not in (17, 24, 120):\n        print(\"Invalid option [17, 24 or 120]. Set to 17\")\n        n = 17\n    \n    with open(f\"/work/algoritmos_geneticos/Capitulo_2/cities/gr{n}.json\", \"r\") as f:\n        tsp = json.load(f)\n    return tsp[\"DistanceMatrix\"], tsp[\"TourSize\"]",
   "execution_count": 2,
   "outputs": []
  },
  {
   "cell_type": "code",
   "metadata": {
    "cell_id": "4c9fce66-e33e-4fd3-a131-c8df452c8dda",
    "tags": [],
    "deepnote_to_be_reexecuted": false,
    "source_hash": "98ff3cc0",
    "execution_start": 1643468307931,
    "execution_millis": 11,
    "deepnote_cell_type": "code"
   },
   "source": "def gen_individual(size):\n    return [random.randint(0, size) for _ in range(size)]",
   "execution_count": 3,
   "outputs": []
  },
  {
   "cell_type": "code",
   "metadata": {
    "cell_id": "167e08b2-b1b2-4ef2-996f-0e6578ed8c37",
    "tags": [],
    "deepnote_to_be_reexecuted": false,
    "source_hash": "d5ce8c86",
    "execution_start": 1643468307943,
    "execution_millis": 15,
    "deepnote_cell_type": "code"
   },
   "source": "def register_initial_components(n_population=100):\n    for _class in [\"FitnessMin\", \"Individual\"]:\n        if _class in dir(creator):\n            delattr(creator, _class)\n    \n    creator.create(\"FitnessMin\", base.Fitness, weights=(-1.0,))\n    creator.create(\"Individual\", list, fitness=creator.FitnessMin)\n\n    toolbox = base.Toolbox()\n\n    # Generación del tour aleatorio\n    toolbox.register(\"indices\", random.sample, range(IND_SIZE), IND_SIZE)\n    # toolbox.register(\"indices\", gen_individual, IND_SIZE)\n    toolbox.register(\n        \"individual\",\n        tools.initIterate,\n        creator.Individual,\n        toolbox.indices\n    )\n    toolbox.register(\n        \"population\",\n        tools.initRepeat,\n        list,\n        toolbox.individual,\n        n_population\n    )\n    return toolbox",
   "execution_count": 4,
   "outputs": []
  },
  {
   "cell_type": "code",
   "metadata": {
    "cell_id": "30fd75a6-69f4-45cb-9986-a6219ed30b1c",
    "tags": [],
    "deepnote_to_be_reexecuted": false,
    "source_hash": "2b021b7e",
    "execution_start": 1643468307961,
    "execution_millis": 12,
    "deepnote_cell_type": "code"
   },
   "source": "def eval_tsp(individual):\n    \"\"\"Funcion objetivo, calcula la distancia que recorre el viajero\"\"\"\n    _, counts = np.unique(individual, return_counts=True)\n    if not all(counts == 1):\n        return 1e6,\n\n    # Distancia entre el último elemento y el primero\n    distance = distance_map[individual[-1]][individual[0]]\n    # Distancia entre el resto de ciudades\n    for gen1, gen2 in zip(individual[:-1], individual[1:]):\n        distance += distance_map[gen1][gen2]\n    return distance,",
   "execution_count": 5,
   "outputs": []
  },
  {
   "cell_type": "code",
   "metadata": {
    "cell_id": "ac22f6b6-5e50-4344-a0f4-d233ee3e9f0d",
    "tags": [],
    "deepnote_to_be_reexecuted": false,
    "source_hash": "20cf0a8a",
    "execution_start": 1643468307980,
    "execution_millis": 4,
    "deepnote_cell_type": "code"
   },
   "source": "# Registro de operaciones géneticas\ndef register_genetic_operators(toolbox):\n    toolbox.register(\"mate\", tools.cxOrdered)\n    # toolbox.register(\"mate\", tools.cxOnePoint)\n    # toolbox.register(\"mate\", tools.cxPartialyMatched)\n    toolbox.register(\"mutate\", tools.mutShuffleIndexes, indpb=0.05)\n    toolbox.register(\"select\", tools.selTournament, tournsize=5)\n    toolbox.register(\"evaluate\", eval_tsp)\n\n    return toolbox",
   "execution_count": 6,
   "outputs": []
  },
  {
   "cell_type": "code",
   "metadata": {
    "cell_id": "c9a80317-bc7c-4314-8425-c495c703c266",
    "tags": [],
    "deepnote_to_be_reexecuted": false,
    "source_hash": "aade16e2",
    "execution_start": 1643468307993,
    "execution_millis": 8,
    "deepnote_cell_type": "code"
   },
   "source": "def simulate(toolbox, CXPB=0.7, MUTPB=0.3, NGEN=45, verbose=False, **kwargs):\n    pop = toolbox.population()\n\n    MU, LAMBDA = len(pop), len(pop)\n    hof = tools.HallOfFame(1)\n\n    stats = tools.Statistics(lambda ind: ind.fitness.values)\n    stats.register(\"avg\", np.mean)\n    stats.register(\"std\", np.std)\n    stats.register(\"min\", np.min)\n    stats.register(\"max\", np.max)\n\n    pop, logbook = algorithms.eaMuPlusLambda(\n        pop,\n        toolbox,\n        MU,\n        LAMBDA,\n        CXPB,\n        MUTPB,\n        NGEN,\n        stats=stats,\n        halloffame=hof,\n        verbose=verbose\n    )\n    return pop, logbook",
   "execution_count": 7,
   "outputs": []
  },
  {
   "cell_type": "code",
   "metadata": {
    "cell_id": "b277cf7f-3eed-4a01-bd0d-619a19297b8e",
    "tags": [],
    "deepnote_to_be_reexecuted": false,
    "source_hash": "c998f296",
    "execution_start": 1643468308007,
    "execution_millis": 12,
    "deepnote_cell_type": "code"
   },
   "source": "def plot_evolution(log):\n    gen = log.select(\"gen\")\n    fit_mins = log.select(\"min\")\n    fit_maxs = log.select(\"max\")\n    fit_avg = log.select(\"avg\")\n\n    fig, ax1 = plt.subplots(figsize=(8,8))\n    ax1.plot(gen, fit_mins, \"b\")\n    ax1.plot(gen, fit_maxs, \"r\")\n    ax1.plot(gen, fit_avg, \"--k\")\n    ax1.fill_between(gen , fit_mins , fit_maxs, facecolor='g', alpha = 0.2)\n    ax1.set_title(\"Minimizar función de Rastrigin mediante algoritmos geneticos\")\n    ax1.set_xlabel(\"Generation\")\n    ax1.set_ylabel(\"Fitness\")\n    # ax1.set_ylim([-1, 240])\n    # ax1.set_xlim([0, 51])\n    ax1.legend ([\"Min\", \"Max\", \"Avg\"], loc=\"upper right\")\n    plt.grid(True)",
   "execution_count": 8,
   "outputs": []
  },
  {
   "cell_type": "code",
   "metadata": {
    "cell_id": "b51303fd-eecf-4bb3-a5f7-7bfbf8e45289",
    "tags": [],
    "deepnote_to_be_reexecuted": false,
    "source_hash": "f7236648",
    "execution_start": 1643468308023,
    "execution_millis": 42,
    "deepnote_cell_type": "code"
   },
   "source": "def run(cases):\n    random.seed(100)\n    results = []\n    results_logs = {idx+1: [] for idx in range(len(cases))}\n    for idx, case in enumerate(cases):\n        toolbox = register_initial_components(case[\"n_population\"])\n        toolbox = register_genetic_operators(toolbox)\n        for i in range(10):\n            t0 = time()\n            best, log = simulate(toolbox, **case)\n            results.append([idx+1, i, case[\"n_population\"], case[\"CXPB\"],\n                case[\"MUTPB\"], case[\"NGEN\"], best[0].fitness.values[0], best[0], round(time()-t0, 4)]\n            )\n            results_logs[idx+1].append(log)\n            print(f\"Case {idx+1}: {(i+1)*10}%\")\n\n    return pd.DataFrame(results, columns=[\"Test ID\", \"Try\", \"Population\", \"CXPB\", \"MUTPB\", \"NGEN\", \"Best Fitness\", \"Best\", \"Time\"]), results_logs",
   "execution_count": 9,
   "outputs": []
  },
  {
   "cell_type": "code",
   "metadata": {
    "cell_id": "233ba90d-d070-4498-a055-3c6c043a3160",
    "tags": [],
    "deepnote_to_be_reexecuted": false,
    "source_hash": "b8034da9",
    "execution_start": 1643468308066,
    "execution_millis": 43,
    "deepnote_cell_type": "code"
   },
   "source": "cases = (\n    {\"n_population\": 100, \"CXPB\": 0.8, \"MUTPB\":0.2, \"NGEN\": 50}, # Best to 17\n    {\"n_population\": 200, \"CXPB\": 0.7, \"MUTPB\":0.3, \"NGEN\": 50}, # Best to 24\n    # {\"n_population\": 350, \"CXPB\": 0.5, \"MUTPB\":0.5, \"NGEN\": 200},\n    # {\"n_population\": 350, \"CXPB\": 0.6, \"MUTPB\":0.4, \"NGEN\": 700},\n    # {\"n_population\": 350, \"CXPB\": 0.7, \"MUTPB\":0.3, \"NGEN\": 1000},\n\n)",
   "execution_count": 10,
   "outputs": []
  },
  {
   "cell_type": "code",
   "metadata": {
    "cell_id": "9fff7ee4-94fb-4b4f-903e-569a3120aee6",
    "tags": [],
    "deepnote_to_be_reexecuted": false,
    "source_hash": "573a9d0e",
    "execution_start": 1643468308109,
    "execution_millis": 33369,
    "deepnote_output_heights": [
     611
    ],
    "deepnote_cell_type": "code"
   },
   "source": "if __name__ == \"__main__\":\n    distance_map, IND_SIZE = load_cities(24)\n    df, logs = run(cases)",
   "execution_count": 11,
   "outputs": [
    {
     "name": "stdout",
     "text": "Case 1: 10%\nCase 1: 20%\nCase 1: 30%\nCase 1: 40%\nCase 1: 50%\nCase 1: 60%\nCase 1: 70%\nCase 1: 80%\nCase 1: 90%\nCase 1: 100%\nCase 2: 10%\nCase 2: 20%\nCase 2: 30%\nCase 2: 40%\nCase 2: 50%\nCase 2: 60%\nCase 2: 70%\nCase 2: 80%\nCase 2: 90%\nCase 2: 100%\n",
     "output_type": "stream"
    }
   ]
  },
  {
   "cell_type": "code",
   "metadata": {
    "cell_id": "9a3cabef-c037-4b27-8f32-f2ac7816f9f2",
    "tags": [],
    "deepnote_to_be_reexecuted": false,
    "source_hash": "f804c160",
    "execution_start": 1643468341481,
    "execution_millis": 154,
    "deepnote_table_state": {
     "pageSize": 10,
     "pageIndex": 0,
     "filters": [],
     "sortBy": [
      {
       "id": "Best Fitness",
       "type": "asc"
      }
     ]
    },
    "deepnote_table_loading": false,
    "deepnote_cell_type": "code"
   },
   "source": "df",
   "execution_count": 12,
   "outputs": [
    {
     "output_type": "execute_result",
     "execution_count": 12,
     "data": {
      "application/vnd.deepnote.dataframe.v3+json": {
       "column_count": 9,
       "row_count": 20,
       "columns": [
        {
         "name": "Test ID",
         "dtype": "int64",
         "stats": {
          "unique_count": 2,
          "nan_count": 0,
          "min": "1",
          "max": "2",
          "histogram": [
           {
            "bin_start": 1,
            "bin_end": 1.1,
            "count": 10
           },
           {
            "bin_start": 1.1,
            "bin_end": 1.2,
            "count": 0
           },
           {
            "bin_start": 1.2,
            "bin_end": 1.3,
            "count": 0
           },
           {
            "bin_start": 1.3,
            "bin_end": 1.4,
            "count": 0
           },
           {
            "bin_start": 1.4,
            "bin_end": 1.5,
            "count": 0
           },
           {
            "bin_start": 1.5,
            "bin_end": 1.6,
            "count": 0
           },
           {
            "bin_start": 1.6,
            "bin_end": 1.7000000000000002,
            "count": 0
           },
           {
            "bin_start": 1.7000000000000002,
            "bin_end": 1.8,
            "count": 0
           },
           {
            "bin_start": 1.8,
            "bin_end": 1.9,
            "count": 0
           },
           {
            "bin_start": 1.9,
            "bin_end": 2,
            "count": 10
           }
          ]
         }
        },
        {
         "name": "Try",
         "dtype": "int64",
         "stats": {
          "unique_count": 10,
          "nan_count": 0,
          "min": "0",
          "max": "9",
          "histogram": [
           {
            "bin_start": 0,
            "bin_end": 0.9,
            "count": 2
           },
           {
            "bin_start": 0.9,
            "bin_end": 1.8,
            "count": 2
           },
           {
            "bin_start": 1.8,
            "bin_end": 2.7,
            "count": 2
           },
           {
            "bin_start": 2.7,
            "bin_end": 3.6,
            "count": 2
           },
           {
            "bin_start": 3.6,
            "bin_end": 4.5,
            "count": 2
           },
           {
            "bin_start": 4.5,
            "bin_end": 5.4,
            "count": 2
           },
           {
            "bin_start": 5.4,
            "bin_end": 6.3,
            "count": 2
           },
           {
            "bin_start": 6.3,
            "bin_end": 7.2,
            "count": 2
           },
           {
            "bin_start": 7.2,
            "bin_end": 8.1,
            "count": 2
           },
           {
            "bin_start": 8.1,
            "bin_end": 9,
            "count": 2
           }
          ]
         }
        },
        {
         "name": "Population",
         "dtype": "int64",
         "stats": {
          "unique_count": 2,
          "nan_count": 0,
          "min": "100",
          "max": "200",
          "histogram": [
           {
            "bin_start": 100,
            "bin_end": 110,
            "count": 10
           },
           {
            "bin_start": 110,
            "bin_end": 120,
            "count": 0
           },
           {
            "bin_start": 120,
            "bin_end": 130,
            "count": 0
           },
           {
            "bin_start": 130,
            "bin_end": 140,
            "count": 0
           },
           {
            "bin_start": 140,
            "bin_end": 150,
            "count": 0
           },
           {
            "bin_start": 150,
            "bin_end": 160,
            "count": 0
           },
           {
            "bin_start": 160,
            "bin_end": 170,
            "count": 0
           },
           {
            "bin_start": 170,
            "bin_end": 180,
            "count": 0
           },
           {
            "bin_start": 180,
            "bin_end": 190,
            "count": 0
           },
           {
            "bin_start": 190,
            "bin_end": 200,
            "count": 10
           }
          ]
         }
        },
        {
         "name": "CXPB",
         "dtype": "float64",
         "stats": {
          "unique_count": 2,
          "nan_count": 0,
          "min": "0.7",
          "max": "0.8",
          "histogram": [
           {
            "bin_start": 0.7,
            "bin_end": 0.71,
            "count": 10
           },
           {
            "bin_start": 0.71,
            "bin_end": 0.72,
            "count": 0
           },
           {
            "bin_start": 0.72,
            "bin_end": 0.73,
            "count": 0
           },
           {
            "bin_start": 0.73,
            "bin_end": 0.74,
            "count": 0
           },
           {
            "bin_start": 0.74,
            "bin_end": 0.75,
            "count": 0
           },
           {
            "bin_start": 0.75,
            "bin_end": 0.76,
            "count": 0
           },
           {
            "bin_start": 0.76,
            "bin_end": 0.77,
            "count": 0
           },
           {
            "bin_start": 0.77,
            "bin_end": 0.78,
            "count": 0
           },
           {
            "bin_start": 0.78,
            "bin_end": 0.79,
            "count": 0
           },
           {
            "bin_start": 0.79,
            "bin_end": 0.8,
            "count": 10
           }
          ]
         }
        },
        {
         "name": "MUTPB",
         "dtype": "float64",
         "stats": {
          "unique_count": 2,
          "nan_count": 0,
          "min": "0.2",
          "max": "0.3",
          "histogram": [
           {
            "bin_start": 0.2,
            "bin_end": 0.21000000000000002,
            "count": 10
           },
           {
            "bin_start": 0.21000000000000002,
            "bin_end": 0.22,
            "count": 0
           },
           {
            "bin_start": 0.22,
            "bin_end": 0.23,
            "count": 0
           },
           {
            "bin_start": 0.23,
            "bin_end": 0.24,
            "count": 0
           },
           {
            "bin_start": 0.24,
            "bin_end": 0.25,
            "count": 0
           },
           {
            "bin_start": 0.25,
            "bin_end": 0.26,
            "count": 0
           },
           {
            "bin_start": 0.26,
            "bin_end": 0.27,
            "count": 0
           },
           {
            "bin_start": 0.27,
            "bin_end": 0.28,
            "count": 0
           },
           {
            "bin_start": 0.28,
            "bin_end": 0.29,
            "count": 0
           },
           {
            "bin_start": 0.29,
            "bin_end": 0.3,
            "count": 10
           }
          ]
         }
        },
        {
         "name": "NGEN",
         "dtype": "int64",
         "stats": {
          "unique_count": 1,
          "nan_count": 0,
          "min": "50",
          "max": "50",
          "histogram": [
           {
            "bin_start": 49.5,
            "bin_end": 49.6,
            "count": 0
           },
           {
            "bin_start": 49.6,
            "bin_end": 49.7,
            "count": 0
           },
           {
            "bin_start": 49.7,
            "bin_end": 49.8,
            "count": 0
           },
           {
            "bin_start": 49.8,
            "bin_end": 49.9,
            "count": 0
           },
           {
            "bin_start": 49.9,
            "bin_end": 50,
            "count": 0
           },
           {
            "bin_start": 50,
            "bin_end": 50.1,
            "count": 20
           },
           {
            "bin_start": 50.1,
            "bin_end": 50.2,
            "count": 0
           },
           {
            "bin_start": 50.2,
            "bin_end": 50.3,
            "count": 0
           },
           {
            "bin_start": 50.3,
            "bin_end": 50.4,
            "count": 0
           },
           {
            "bin_start": 50.4,
            "bin_end": 50.5,
            "count": 0
           }
          ]
         }
        },
        {
         "name": "Best Fitness",
         "dtype": "float64",
         "stats": {
          "unique_count": 19,
          "nan_count": 0,
          "min": "1294.0",
          "max": "1671.0",
          "histogram": [
           {
            "bin_start": 1294,
            "bin_end": 1331.7,
            "count": 2
           },
           {
            "bin_start": 1331.7,
            "bin_end": 1369.4,
            "count": 1
           },
           {
            "bin_start": 1369.4,
            "bin_end": 1407.1,
            "count": 5
           },
           {
            "bin_start": 1407.1,
            "bin_end": 1444.8,
            "count": 2
           },
           {
            "bin_start": 1444.8,
            "bin_end": 1482.5,
            "count": 2
           },
           {
            "bin_start": 1482.5,
            "bin_end": 1520.2,
            "count": 2
           },
           {
            "bin_start": 1520.2,
            "bin_end": 1557.9,
            "count": 0
           },
           {
            "bin_start": 1557.9,
            "bin_end": 1595.6,
            "count": 3
           },
           {
            "bin_start": 1595.6,
            "bin_end": 1633.3,
            "count": 2
           },
           {
            "bin_start": 1633.3,
            "bin_end": 1671,
            "count": 1
           }
          ]
         }
        },
        {
         "name": "Best",
         "dtype": "object",
         "stats": {
          "unique_count": 20,
          "nan_count": 0,
          "categories": [
           {
            "name": "[12, 8, 22, 3, 11, 0, 15, 5, 6, 10, 2, 7, 20, 23, 4, 9, 16, 17, 21, 18, 14, 1, 19, 13]",
            "count": 1
           },
           {
            "name": "[9, 16, 20, 7, 6, 5, 23, 4, 19, 1, 14, 18, 21, 17, 2, 10, 15, 0, 11, 3, 22, 8, 12, 13]",
            "count": 1
           },
           {
            "name": "18 others",
            "count": 18
           }
          ]
         }
        },
        {
         "name": "Time",
         "dtype": "float64",
         "stats": {
          "unique_count": 20,
          "nan_count": 0,
          "min": "1.1093",
          "max": "2.269",
          "histogram": [
           {
            "bin_start": 1.1093,
            "bin_end": 1.22527,
            "count": 9
           },
           {
            "bin_start": 1.22527,
            "bin_end": 1.34124,
            "count": 1
           },
           {
            "bin_start": 1.34124,
            "bin_end": 1.45721,
            "count": 0
           },
           {
            "bin_start": 1.45721,
            "bin_end": 1.57318,
            "count": 0
           },
           {
            "bin_start": 1.57318,
            "bin_end": 1.6891500000000002,
            "count": 0
           },
           {
            "bin_start": 1.6891500000000002,
            "bin_end": 1.80512,
            "count": 0
           },
           {
            "bin_start": 1.80512,
            "bin_end": 1.92109,
            "count": 0
           },
           {
            "bin_start": 1.92109,
            "bin_end": 2.0370600000000003,
            "count": 0
           },
           {
            "bin_start": 2.0370600000000003,
            "bin_end": 2.15303,
            "count": 5
           },
           {
            "bin_start": 2.15303,
            "bin_end": 2.269,
            "count": 5
           }
          ]
         }
        },
        {
         "name": "_deepnote_index_column",
         "dtype": "int64"
        }
       ],
       "rows": [
        {
         "Test ID": 2,
         "Try": 2,
         "Population": 200,
         "CXPB": 0.7,
         "MUTPB": 0.3,
         "NGEN": 50,
         "Best Fitness": 1294,
         "Best": "[12, 8, 22, 3, 11, 0, 15, 5, 6, 10, 2, 7, 20, 23, 4, 9, 16, 17, 21, 18, 14, 1, 19, 13]",
         "Time": 2.1697,
         "_deepnote_index_column": 12
        },
        {
         "Test ID": 2,
         "Try": 8,
         "Population": 200,
         "CXPB": 0.7,
         "MUTPB": 0.3,
         "NGEN": 50,
         "Best Fitness": 1329,
         "Best": "[9, 16, 20, 7, 6, 5, 23, 4, 19, 1, 14, 18, 21, 17, 2, 10, 15, 0, 11, 3, 22, 8, 12, 13]",
         "Time": 2.1925,
         "_deepnote_index_column": 18
        },
        {
         "Test ID": 1,
         "Try": 3,
         "Population": 100,
         "CXPB": 0.8,
         "MUTPB": 0.2,
         "NGEN": 50,
         "Best Fitness": 1347,
         "Best": "[7, 23, 5, 6, 15, 0, 11, 3, 22, 8, 12, 13, 19, 1, 14, 18, 17, 21, 16, 2, 10, 20, 9, 4]",
         "Time": 1.2035,
         "_deepnote_index_column": 3
        },
        {
         "Test ID": 2,
         "Try": 1,
         "Population": 200,
         "CXPB": 0.7,
         "MUTPB": 0.3,
         "NGEN": 50,
         "Best Fitness": 1385,
         "Best": "[6, 7, 20, 4, 22, 8, 12, 13, 9, 19, 14, 1, 18, 16, 21, 17, 2, 10, 15, 0, 3, 11, 23, 5]",
         "Time": 2.1425,
         "_deepnote_index_column": 11
        },
        {
         "Test ID": 1,
         "Try": 4,
         "Population": 100,
         "CXPB": 0.8,
         "MUTPB": 0.2,
         "NGEN": 50,
         "Best Fitness": 1393,
         "Best": "[3, 11, 0, 15, 5, 23, 7, 6, 10, 2, 16, 17, 21, 20, 4, 9, 18, 14, 1, 19, 13, 12, 8, 22]",
         "Time": 1.145,
         "_deepnote_index_column": 4
        },
        {
         "Test ID": 2,
         "Try": 3,
         "Population": 200,
         "CXPB": 0.7,
         "MUTPB": 0.3,
         "NGEN": 50,
         "Best Fitness": 1395,
         "Best": "[11, 0, 3, 22, 8, 12, 13, 19, 1, 14, 18, 20, 7, 6, 5, 15, 10, 2, 17, 21, 16, 9, 4, 23]",
         "Time": 2.1091,
         "_deepnote_index_column": 13
        },
        {
         "Test ID": 1,
         "Try": 5,
         "Population": 100,
         "CXPB": 0.8,
         "MUTPB": 0.2,
         "NGEN": 50,
         "Best Fitness": 1399,
         "Best": "[8, 22, 3, 11, 0, 15, 23, 5, 6, 7, 10, 2, 17, 21, 18, 14, 19, 1, 9, 16, 20, 4, 13, 12]",
         "Time": 1.3128,
         "_deepnote_index_column": 5
        },
        {
         "Test ID": 2,
         "Try": 0,
         "Population": 200,
         "CXPB": 0.7,
         "MUTPB": 0.3,
         "NGEN": 50,
         "Best Fitness": 1403,
         "Best": "[18, 14, 1, 19, 4, 20, 7, 23, 5, 15, 10, 2, 6, 11, 0, 3, 22, 8, 12, 13, 9, 16, 17, 21]",
         "Time": 2.0844,
         "_deepnote_index_column": 10
        },
        {
         "Test ID": 2,
         "Try": 4,
         "Population": 200,
         "CXPB": 0.7,
         "MUTPB": 0.3,
         "NGEN": 50,
         "Best Fitness": 1414,
         "Best": "[20, 23, 11, 5, 7, 10, 2, 17, 21, 18, 14, 1, 19, 13, 12, 8, 22, 3, 0, 15, 6, 4, 9, 16]",
         "Time": 2.269,
         "_deepnote_index_column": 14
        },
        {
         "Test ID": 1,
         "Try": 9,
         "Population": 100,
         "CXPB": 0.8,
         "MUTPB": 0.2,
         "NGEN": 50,
         "Best Fitness": 1435,
         "Best": "[6, 23, 5, 15, 0, 3, 11, 7, 20, 4, 22, 8, 12, 13, 19, 14, 1, 18, 17, 21, 16, 9, 10, 2]",
         "Time": 1.1558,
         "_deepnote_index_column": 9
        }
       ]
      },
      "text/plain": "    Test ID  Try  Population  CXPB  MUTPB  NGEN  Best Fitness  \\\n0         1    0         100   0.8    0.2    50        1671.0   \n1         1    1         100   0.8    0.2    50        1593.0   \n2         1    2         100   0.8    0.2    50        1630.0   \n3         1    3         100   0.8    0.2    50        1347.0   \n4         1    4         100   0.8    0.2    50        1393.0   \n5         1    5         100   0.8    0.2    50        1399.0   \n6         1    6         100   0.8    0.2    50        1559.0   \n7         1    7         100   0.8    0.2    50        1507.0   \n8         1    8         100   0.8    0.2    50        1567.0   \n9         1    9         100   0.8    0.2    50        1435.0   \n10        2    0         200   0.7    0.3    50        1403.0   \n11        2    1         200   0.7    0.3    50        1385.0   \n12        2    2         200   0.7    0.3    50        1294.0   \n13        2    3         200   0.7    0.3    50        1395.0   \n14        2    4         200   0.7    0.3    50        1414.0   \n15        2    5         200   0.7    0.3    50        1630.0   \n16        2    6         200   0.7    0.3    50        1483.0   \n17        2    7         200   0.7    0.3    50        1450.0   \n18        2    8         200   0.7    0.3    50        1329.0   \n19        2    9         200   0.7    0.3    50        1455.0   \n\n                                                 Best    Time  \n0   [20, 21, 17, 18, 14, 1, 6, 10, 2, 7, 5, 11, 3,...  1.1206  \n1   [5, 6, 10, 15, 0, 11, 3, 8, 12, 22, 4, 20, 7, ...  1.1093  \n2   [16, 2, 17, 14, 19, 13, 8, 12, 22, 3, 0, 15, 1...  1.1874  \n3   [7, 23, 5, 6, 15, 0, 11, 3, 22, 8, 12, 13, 19,...  1.2035  \n4   [3, 11, 0, 15, 5, 23, 7, 6, 10, 2, 16, 17, 21,...  1.1450  \n5   [8, 22, 3, 11, 0, 15, 23, 5, 6, 7, 10, 2, 17, ...  1.3128  \n6   [1, 18, 14, 17, 21, 20, 4, 23, 11, 22, 12, 8, ...  1.2078  \n7   [17, 21, 18, 14, 1, 19, 13, 12, 8, 22, 7, 6, 1...  1.1620  \n8   [23, 5, 15, 0, 4, 20, 10, 2, 6, 7, 19, 14, 18,...  1.1750  \n9   [6, 23, 5, 15, 0, 3, 11, 7, 20, 4, 22, 8, 12, ...  1.1558  \n10  [18, 14, 1, 19, 4, 20, 7, 23, 5, 15, 10, 2, 6,...  2.0844  \n11  [6, 7, 20, 4, 22, 8, 12, 13, 9, 19, 14, 1, 18,...  2.1425  \n12  [12, 8, 22, 3, 11, 0, 15, 5, 6, 10, 2, 7, 20, ...  2.1697  \n13  [11, 0, 3, 22, 8, 12, 13, 19, 1, 14, 18, 20, 7...  2.1091  \n14  [20, 23, 11, 5, 7, 10, 2, 17, 21, 18, 14, 1, 1...  2.2690  \n15  [10, 2, 17, 21, 18, 16, 9, 4, 23, 5, 15, 0, 3,...  2.0878  \n16  [10, 2, 6, 20, 16, 17, 21, 18, 14, 1, 19, 13, ...  2.1886  \n17  [22, 8, 12, 19, 1, 14, 18, 4, 20, 16, 21, 17, ...  2.2014  \n18  [9, 16, 20, 7, 6, 5, 23, 4, 19, 1, 14, 18, 21,...  2.1925  \n19  [18, 14, 1, 19, 13, 9, 4, 22, 12, 8, 3, 11, 0,...  2.1516  ",
      "text/html": "<div>\n<style scoped>\n    .dataframe tbody tr th:only-of-type {\n        vertical-align: middle;\n    }\n\n    .dataframe tbody tr th {\n        vertical-align: top;\n    }\n\n    .dataframe thead th {\n        text-align: right;\n    }\n</style>\n<table border=\"1\" class=\"dataframe\">\n  <thead>\n    <tr style=\"text-align: right;\">\n      <th></th>\n      <th>Test ID</th>\n      <th>Try</th>\n      <th>Population</th>\n      <th>CXPB</th>\n      <th>MUTPB</th>\n      <th>NGEN</th>\n      <th>Best Fitness</th>\n      <th>Best</th>\n      <th>Time</th>\n    </tr>\n  </thead>\n  <tbody>\n    <tr>\n      <th>0</th>\n      <td>1</td>\n      <td>0</td>\n      <td>100</td>\n      <td>0.8</td>\n      <td>0.2</td>\n      <td>50</td>\n      <td>1671.0</td>\n      <td>[20, 21, 17, 18, 14, 1, 6, 10, 2, 7, 5, 11, 3,...</td>\n      <td>1.1206</td>\n    </tr>\n    <tr>\n      <th>1</th>\n      <td>1</td>\n      <td>1</td>\n      <td>100</td>\n      <td>0.8</td>\n      <td>0.2</td>\n      <td>50</td>\n      <td>1593.0</td>\n      <td>[5, 6, 10, 15, 0, 11, 3, 8, 12, 22, 4, 20, 7, ...</td>\n      <td>1.1093</td>\n    </tr>\n    <tr>\n      <th>2</th>\n      <td>1</td>\n      <td>2</td>\n      <td>100</td>\n      <td>0.8</td>\n      <td>0.2</td>\n      <td>50</td>\n      <td>1630.0</td>\n      <td>[16, 2, 17, 14, 19, 13, 8, 12, 22, 3, 0, 15, 1...</td>\n      <td>1.1874</td>\n    </tr>\n    <tr>\n      <th>3</th>\n      <td>1</td>\n      <td>3</td>\n      <td>100</td>\n      <td>0.8</td>\n      <td>0.2</td>\n      <td>50</td>\n      <td>1347.0</td>\n      <td>[7, 23, 5, 6, 15, 0, 11, 3, 22, 8, 12, 13, 19,...</td>\n      <td>1.2035</td>\n    </tr>\n    <tr>\n      <th>4</th>\n      <td>1</td>\n      <td>4</td>\n      <td>100</td>\n      <td>0.8</td>\n      <td>0.2</td>\n      <td>50</td>\n      <td>1393.0</td>\n      <td>[3, 11, 0, 15, 5, 23, 7, 6, 10, 2, 16, 17, 21,...</td>\n      <td>1.1450</td>\n    </tr>\n    <tr>\n      <th>5</th>\n      <td>1</td>\n      <td>5</td>\n      <td>100</td>\n      <td>0.8</td>\n      <td>0.2</td>\n      <td>50</td>\n      <td>1399.0</td>\n      <td>[8, 22, 3, 11, 0, 15, 23, 5, 6, 7, 10, 2, 17, ...</td>\n      <td>1.3128</td>\n    </tr>\n    <tr>\n      <th>6</th>\n      <td>1</td>\n      <td>6</td>\n      <td>100</td>\n      <td>0.8</td>\n      <td>0.2</td>\n      <td>50</td>\n      <td>1559.0</td>\n      <td>[1, 18, 14, 17, 21, 20, 4, 23, 11, 22, 12, 8, ...</td>\n      <td>1.2078</td>\n    </tr>\n    <tr>\n      <th>7</th>\n      <td>1</td>\n      <td>7</td>\n      <td>100</td>\n      <td>0.8</td>\n      <td>0.2</td>\n      <td>50</td>\n      <td>1507.0</td>\n      <td>[17, 21, 18, 14, 1, 19, 13, 12, 8, 22, 7, 6, 1...</td>\n      <td>1.1620</td>\n    </tr>\n    <tr>\n      <th>8</th>\n      <td>1</td>\n      <td>8</td>\n      <td>100</td>\n      <td>0.8</td>\n      <td>0.2</td>\n      <td>50</td>\n      <td>1567.0</td>\n      <td>[23, 5, 15, 0, 4, 20, 10, 2, 6, 7, 19, 14, 18,...</td>\n      <td>1.1750</td>\n    </tr>\n    <tr>\n      <th>9</th>\n      <td>1</td>\n      <td>9</td>\n      <td>100</td>\n      <td>0.8</td>\n      <td>0.2</td>\n      <td>50</td>\n      <td>1435.0</td>\n      <td>[6, 23, 5, 15, 0, 3, 11, 7, 20, 4, 22, 8, 12, ...</td>\n      <td>1.1558</td>\n    </tr>\n    <tr>\n      <th>10</th>\n      <td>2</td>\n      <td>0</td>\n      <td>200</td>\n      <td>0.7</td>\n      <td>0.3</td>\n      <td>50</td>\n      <td>1403.0</td>\n      <td>[18, 14, 1, 19, 4, 20, 7, 23, 5, 15, 10, 2, 6,...</td>\n      <td>2.0844</td>\n    </tr>\n    <tr>\n      <th>11</th>\n      <td>2</td>\n      <td>1</td>\n      <td>200</td>\n      <td>0.7</td>\n      <td>0.3</td>\n      <td>50</td>\n      <td>1385.0</td>\n      <td>[6, 7, 20, 4, 22, 8, 12, 13, 9, 19, 14, 1, 18,...</td>\n      <td>2.1425</td>\n    </tr>\n    <tr>\n      <th>12</th>\n      <td>2</td>\n      <td>2</td>\n      <td>200</td>\n      <td>0.7</td>\n      <td>0.3</td>\n      <td>50</td>\n      <td>1294.0</td>\n      <td>[12, 8, 22, 3, 11, 0, 15, 5, 6, 10, 2, 7, 20, ...</td>\n      <td>2.1697</td>\n    </tr>\n    <tr>\n      <th>13</th>\n      <td>2</td>\n      <td>3</td>\n      <td>200</td>\n      <td>0.7</td>\n      <td>0.3</td>\n      <td>50</td>\n      <td>1395.0</td>\n      <td>[11, 0, 3, 22, 8, 12, 13, 19, 1, 14, 18, 20, 7...</td>\n      <td>2.1091</td>\n    </tr>\n    <tr>\n      <th>14</th>\n      <td>2</td>\n      <td>4</td>\n      <td>200</td>\n      <td>0.7</td>\n      <td>0.3</td>\n      <td>50</td>\n      <td>1414.0</td>\n      <td>[20, 23, 11, 5, 7, 10, 2, 17, 21, 18, 14, 1, 1...</td>\n      <td>2.2690</td>\n    </tr>\n    <tr>\n      <th>15</th>\n      <td>2</td>\n      <td>5</td>\n      <td>200</td>\n      <td>0.7</td>\n      <td>0.3</td>\n      <td>50</td>\n      <td>1630.0</td>\n      <td>[10, 2, 17, 21, 18, 16, 9, 4, 23, 5, 15, 0, 3,...</td>\n      <td>2.0878</td>\n    </tr>\n    <tr>\n      <th>16</th>\n      <td>2</td>\n      <td>6</td>\n      <td>200</td>\n      <td>0.7</td>\n      <td>0.3</td>\n      <td>50</td>\n      <td>1483.0</td>\n      <td>[10, 2, 6, 20, 16, 17, 21, 18, 14, 1, 19, 13, ...</td>\n      <td>2.1886</td>\n    </tr>\n    <tr>\n      <th>17</th>\n      <td>2</td>\n      <td>7</td>\n      <td>200</td>\n      <td>0.7</td>\n      <td>0.3</td>\n      <td>50</td>\n      <td>1450.0</td>\n      <td>[22, 8, 12, 19, 1, 14, 18, 4, 20, 16, 21, 17, ...</td>\n      <td>2.2014</td>\n    </tr>\n    <tr>\n      <th>18</th>\n      <td>2</td>\n      <td>8</td>\n      <td>200</td>\n      <td>0.7</td>\n      <td>0.3</td>\n      <td>50</td>\n      <td>1329.0</td>\n      <td>[9, 16, 20, 7, 6, 5, 23, 4, 19, 1, 14, 18, 21,...</td>\n      <td>2.1925</td>\n    </tr>\n    <tr>\n      <th>19</th>\n      <td>2</td>\n      <td>9</td>\n      <td>200</td>\n      <td>0.7</td>\n      <td>0.3</td>\n      <td>50</td>\n      <td>1455.0</td>\n      <td>[18, 14, 1, 19, 13, 9, 4, 22, 12, 8, 3, 11, 0,...</td>\n      <td>2.1516</td>\n    </tr>\n  </tbody>\n</table>\n</div>"
     },
     "metadata": {}
    }
   ]
  },
  {
   "cell_type": "code",
   "metadata": {
    "cell_id": "d7f56476-6fb3-4dd0-b82a-b5a6f218268e",
    "tags": [],
    "deepnote_to_be_reexecuted": false,
    "source_hash": "a7eeab01",
    "execution_start": 1643468341641,
    "execution_millis": 396,
    "deepnote_output_heights": [
     498
    ],
    "deepnote_cell_type": "code"
   },
   "source": "plot_evolution(logs[1][4])",
   "execution_count": 13,
   "outputs": [
    {
     "data": {
      "text/plain": "<Figure size 576x576 with 1 Axes>",
      "image/png": "[encoded data removed]"
     },
     "metadata": {
      "needs_background": "light",
      "image/png": {
       "width": 507,
       "height": 496
      }
     },
     "output_type": "display_data"
    }
   ]
  },
  {
   "cell_type": "code",
   "metadata": {
    "cell_id": "530b3d01-8808-4c33-a03f-73d4b33cbd12",
    "tags": [],
    "deepnote_to_be_reexecuted": false,
    "source_hash": "b623e53d",
    "execution_start": 1643468342038,
    "execution_millis": 7,
    "deepnote_cell_type": "code"
   },
   "source": "",
   "execution_count": 13,
   "outputs": []
  },
  {
   "cell_type": "markdown",
   "source": "<a style='text-decoration:none;line-height:16px;display:flex;color:#5B5B62;padding:10px;justify-content:end;' href='https://deepnote.com?utm_source=created-in-deepnote-cell&projectId=e519ef70-0417-4f93-b18c-a7992756a932' target=\"_blank\">\n<img alt='Created in deepnote.com' style='display:inline;max-height:16px;margin:0px;margin-right:7.5px;' src='data:image/svg+xml;base64,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' > </img>\nCreated in <span style='font-weight:600;margin-left:4px;'>Deepnote</span></a>",
   "metadata": {
    "tags": [],
    "created_in_deepnote_cell": true,
    "deepnote_cell_type": "markdown"
   }
  }
 ],
 "nbformat": 4,
 "nbformat_minor": 2,
 "metadata": {
  "orig_nbformat": 2,
  "deepnote": {
   "is_reactive": false
  },
  "deepnote_notebook_id": "5f7a28a1-733e-4046-b3a3-d963ab442e56",
  "deepnote_execution_queue": []
 }
}